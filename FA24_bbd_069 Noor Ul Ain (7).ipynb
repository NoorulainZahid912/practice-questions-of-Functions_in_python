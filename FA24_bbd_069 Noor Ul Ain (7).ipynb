{
 "cells": [
  {
   "cell_type": "code",
   "execution_count": null,
   "id": "8943e251-e1b2-44e5-bbe2-756c39012061",
   "metadata": {},
   "outputs": [],
   "source": [
    "# FA24-BBD-069\n",
    "# Noor Ul Ain Zahid"
   ]
  },
  {
   "cell_type": "code",
   "execution_count": 5,
   "id": "63dd8fc7-f613-4d80-84c7-0af3db9dbbee",
   "metadata": {},
   "outputs": [
    {
     "name": "stdout",
     "output_type": "stream",
     "text": [
      "Assalam o alaikum, Noor Ul Ain Zahid! The current time is 15:31:54.\n"
     ]
    }
   ],
   "source": [
    "# 1. Simple Function\n",
    "from datetime import datetime\n",
    "\n",
    "def greet_with_time(name):\n",
    "    \"\"\"Greets the user with the current time.\"\"\"\n",
    "    current_time = datetime.now().strftime(\"%H:%M:%S\")  # Get current time\n",
    "    print(f\"Assalam o alaikum, {name}! The current time is {current_time}.\")\n",
    "    \n",
    "# Example:\n",
    "greet_with_time(\"Noor Ul Ain Zahid\")\n"
   ]
  },
  {
   "cell_type": "code",
   "execution_count": 13,
   "id": "b9202098-60a9-44a7-8ae1-3d11ffd8361c",
   "metadata": {},
   "outputs": [
    {
     "name": "stdout",
     "output_type": "stream",
     "text": [
      "Average of the given numbers is 37.0.\n"
     ]
    }
   ],
   "source": [
    "# 2. Function with Multiple Parameters\n",
    "def calculate_average(num1, num2, num3):\n",
    "    \"\"\"Calculates the average of three numbers.\"\"\"\n",
    "    return (num1 + num2 + num3) / 3\n",
    "\n",
    "# Example:\n",
    "average = calculate_average(24, 56, 31)\n",
    "print(f\"Average of the given numbers is {average}.\")\n"
   ]
  },
  {
   "cell_type": "code",
   "execution_count": 17,
   "id": "74ecbd7e-8c46-47d0-ba9d-0ea368d6eda9",
   "metadata": {},
   "outputs": [
    {
     "name": "stdout",
     "output_type": "stream",
     "text": [
      "Price after default discount: 90.0\n",
      "Price after 15% discount: 85.0\n"
     ]
    }
   ],
   "source": [
    "# 3. Default Argument\n",
    "def calculate_discount(price, discount_percentage=10):\n",
    "    \"\"\"Calculates the price after applying the discount percentage.\"\"\"\n",
    "    discounted_price = price - (price * discount_percentage / 100)\n",
    "    return discounted_price\n",
    "\n",
    "# Example:\n",
    "print(\"Price after default discount:\", calculate_discount(100))\n",
    "print(\"Price after 15% discount:\", calculate_discount(100, 15))\n"
   ]
  },
  {
   "cell_type": "code",
   "execution_count": 21,
   "id": "ff274ef7-4c05-4767-b168-25886de8d20c",
   "metadata": {},
   "outputs": [
    {
     "name": "stdout",
     "output_type": "stream",
     "text": [
      "Name: Noor ul Ain Zahid, Age: 19, City: Lahore\n"
     ]
    }
   ],
   "source": [
    "# 4. Keyword Arguments\n",
    "def print_info(name, age, city):\n",
    "    \"\"\"Prints information using keyword arguments.\"\"\"\n",
    "    print(f\"Name: {name}, Age: {age}, City: {city}\")\n",
    "\n",
    "# Example:\n",
    "print_info(name=\"Noor ul Ain Zahid\", age=19, city=\"Lahore\")\n",
    "\n"
   ]
  },
  {
   "cell_type": "code",
   "execution_count": 25,
   "id": "2ed5bb23-a196-4ed4-8582-c237476443f7",
   "metadata": {},
   "outputs": [
    {
     "name": "stdout",
     "output_type": "stream",
     "text": [
      "Maximum value: 67\n"
     ]
    }
   ],
   "source": [
    "# 5. Variable-Length Arguments\n",
    "def find_max(*args):\n",
    "    \"\"\"Finds the maximum value from variable-length arguments.\"\"\"\n",
    "    return max(args)\n",
    "\n",
    "# Example:\n",
    "maximum = find_max(10, 24, 43, 67, 7)\n",
    "print(\"Maximum value:\", maximum)\n"
   ]
  },
  {
   "cell_type": "code",
   "execution_count": 29,
   "id": "d444e6a7-50ff-4179-8db4-27242e227fbb",
   "metadata": {},
   "outputs": [
    {
     "name": "stdout",
     "output_type": "stream",
     "text": [
      "Factorial of 10: 3628800\n"
     ]
    }
   ],
   "source": [
    "# 6. Recursive Function\n",
    "def factorial(n):\n",
    "    \"\"\"Calculates the factorial of a number using recursion.\"\"\"\n",
    "    if n == 0 or n == 1:  # Base case\n",
    "        return 1\n",
    "    return n * factorial(n - 1)  # Recursive call\n",
    "\n",
    "# Example:\n",
    "print(\"Factorial of 10:\", factorial(10))\n"
   ]
  },
  {
   "cell_type": "code",
   "execution_count": 31,
   "id": "db7153d2-cad2-4f31-aff4-0d82ec11d559",
   "metadata": {},
   "outputs": [
    {
     "name": "stdout",
     "output_type": "stream",
     "text": [
      "Squared numbers: [9, 16, 25, 64]\n"
     ]
    }
   ],
   "source": [
    "# 7. Function as an Argument\n",
    "def apply_function(func, numbers):\n",
    "    \"\"\"Applies a function to each number in a list.\"\"\"\n",
    "    return [func(num) for num in numbers]\n",
    "\n",
    "# Example:\n",
    "squared_numbers = apply_function(lambda x: x**2, [3, 4, 5, 8])\n",
    "print(\"Squared numbers:\", squared_numbers)\n"
   ]
  },
  {
   "cell_type": "code",
   "execution_count": 37,
   "id": "b405072d-1ad6-4767-8ac0-05bfcd40407b",
   "metadata": {},
   "outputs": [
    {
     "name": "stdout",
     "output_type": "stream",
     "text": [
      "Square of 67: 4489\n"
     ]
    }
   ],
   "source": [
    "# 8. Lambda Functions\n",
    "square = lambda x: x**2  # Lambda function to square a number\n",
    "\n",
    "# Example:\n",
    "print(\"Square of 67:\", square(67))\n"
   ]
  },
  {
   "cell_type": "code",
   "execution_count": 39,
   "id": "7d56190b-9e3b-404b-ba08-6d2f99f1c837",
   "metadata": {},
   "outputs": [
    {
     "name": "stdout",
     "output_type": "stream",
     "text": [
      "Cubed numbers: [1000, 10648, 35937, 85184]\n"
     ]
    }
   ],
   "source": [
    "# 9. Higher-Order Functions\n",
    "def apply_operation(func, numbers):\n",
    "    \"\"\"Applies a function to each number in a list.\"\"\"\n",
    "    return [func(num) for num in numbers]\n",
    "\n",
    "# Example:\n",
    "cubed_numbers = apply_operation(lambda x: x**3, [10, 22, 33, 44])\n",
    "print(\"Cubed numbers:\", cubed_numbers)\n"
   ]
  },
  {
   "cell_type": "code",
   "execution_count": 7,
   "id": "61b5c2a1-c38f-4c13-920f-68a8f32f99dc",
   "metadata": {},
   "outputs": [
    {
     "name": "stdout",
     "output_type": "stream",
     "text": [
      "Execution time: 2.0003 seconds\n"
     ]
    }
   ],
   "source": [
    "# 10 Function Decorators\n",
    "import time\n",
    "def measure_time(func):\n",
    "    def inner_func():\n",
    "        start_time = time.time()  \n",
    "        func() \n",
    "        end_time = time.time() \n",
    "        print(f\"Execution time: {end_time - start_time:.4f} seconds\")\n",
    "    return inner_func\n",
    "\n",
    "def example_function():\n",
    "    time.sleep(2)  \n",
    "decorated_function = measure_time(example_function)\n",
    "decorated_function()"
   ]
  },
  {
   "cell_type": "code",
   "execution_count": null,
   "id": "312986d2-ef73-4950-ad71-db621cb3a3f4",
   "metadata": {},
   "outputs": [],
   "source": []
  },
  {
   "cell_type": "code",
   "execution_count": null,
   "id": "d9237e47-9688-4b41-8d4a-73cd5f6f15fb",
   "metadata": {},
   "outputs": [],
   "source": []
  }
 ],
 "metadata": {
  "kernelspec": {
   "display_name": "Python 3 (ipykernel)",
   "language": "python",
   "name": "python3"
  },
  "language_info": {
   "codemirror_mode": {
    "name": "ipython",
    "version": 3
   },
   "file_extension": ".py",
   "mimetype": "text/x-python",
   "name": "python",
   "nbconvert_exporter": "python",
   "pygments_lexer": "ipython3",
   "version": "3.12.4"
  }
 },
 "nbformat": 4,
 "nbformat_minor": 5
}
